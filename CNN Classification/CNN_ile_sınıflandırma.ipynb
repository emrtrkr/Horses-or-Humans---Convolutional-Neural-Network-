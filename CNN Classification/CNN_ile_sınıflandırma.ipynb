{
  "metadata": {
    "kernelspec": {
      "display_name": "Python 3",
      "name": "python3"
    },
    "language_info": {
      "name": "python",
      "version": "3.10.13",
      "mimetype": "text/x-python",
      "codemirror_mode": {
        "name": "ipython",
        "version": 3
      },
      "pygments_lexer": "ipython3",
      "nbconvert_exporter": "python",
      "file_extension": ".py"
    },
    "kaggle": {
      "accelerator": "gpu",
      "dataSources": [
        {
          "sourceId": 393587,
          "sourceType": "datasetVersion",
          "datasetId": 174300
        }
      ],
      "dockerImageVersionId": 30733,
      "isInternetEnabled": true,
      "language": "python",
      "sourceType": "notebook",
      "isGpuEnabled": true
    },
    "colab": {
      "provenance": [],
      "gpuType": "T4"
    },
    "accelerator": "GPU"
  },
  "nbformat_minor": 0,
  "nbformat": 4,
  "cells": [
    {
      "source": [
        "\n",
        "import os\n",
        "import sys\n",
        "from tempfile import NamedTemporaryFile\n",
        "from urllib.request import urlopen\n",
        "from urllib.parse import unquote, urlparse\n",
        "from urllib.error import HTTPError\n",
        "from zipfile import ZipFile\n",
        "import tarfile\n",
        "import shutil\n",
        "\n",
        "CHUNK_SIZE = 40960\n",
        "DATA_SOURCE_MAPPING = 'horses-or-humans-dataset:https%3A%2F%2Fstorage.googleapis.com%2Fkaggle-data-sets%2F174300%2F393587%2Fbundle%2Farchive.zip%3FX-Goog-Algorithm%3DGOOG4-RSA-SHA256%26X-Goog-Credential%3Dgcp-kaggle-com%2540kaggle-161607.iam.gserviceaccount.com%252F20240707%252Fauto%252Fstorage%252Fgoog4_request%26X-Goog-Date%3D20240707T133911Z%26X-Goog-Expires%3D259200%26X-Goog-SignedHeaders%3Dhost%26X-Goog-Signature%3D583c1a819bf8dfade8c2b53f3698db2d62d04651fc1e2133aa3a35e7ca74270d0192b530f51c0c4306ffb81893b96d7fba7de5f66c8296c16ebbce7905247aa66b5b6f5e5dcf220ecc083362afb8b57bf6b22b89745c795be31629cd1033c0bb9abc99699f9aa582f09dffb19113595615706443bc0772b37efb077cce22cfb27b08e6dad7dfca54f2d94cf05ef07f5f72ea9c33e9476d29921c07006dcf0a7b54e422e38c05f6803ddc08da08324a94c915f331d53f5eb0c1b8fb96cca5f09c8479302c3e93d70dbaf92432eb2ffebcda3d2702fcb7221d73e820a34c9198d6e0f8414b0524b17620a77c4efaacdc2c2d2b88247df870051379e14b11c55e5c'\n",
        "\n",
        "KAGGLE_INPUT_PATH='/kaggle/input'\n",
        "KAGGLE_WORKING_PATH='/kaggle/working'\n",
        "KAGGLE_SYMLINK='kaggle'\n",
        "\n",
        "!umount /kaggle/input/ 2> /dev/null\n",
        "shutil.rmtree('/kaggle/input', ignore_errors=True)\n",
        "os.makedirs(KAGGLE_INPUT_PATH, 0o777, exist_ok=True)\n",
        "os.makedirs(KAGGLE_WORKING_PATH, 0o777, exist_ok=True)\n",
        "\n",
        "try:\n",
        "  os.symlink(KAGGLE_INPUT_PATH, os.path.join(\"..\", 'input'), target_is_directory=True)\n",
        "except FileExistsError:\n",
        "  pass\n",
        "try:\n",
        "  os.symlink(KAGGLE_WORKING_PATH, os.path.join(\"..\", 'working'), target_is_directory=True)\n",
        "except FileExistsError:\n",
        "  pass\n",
        "\n",
        "for data_source_mapping in DATA_SOURCE_MAPPING.split(','):\n",
        "    directory, download_url_encoded = data_source_mapping.split(':')\n",
        "    download_url = unquote(download_url_encoded)\n",
        "    filename = urlparse(download_url).path\n",
        "    destination_path = os.path.join(KAGGLE_INPUT_PATH, directory)\n",
        "    try:\n",
        "        with urlopen(download_url) as fileres, NamedTemporaryFile() as tfile:\n",
        "            total_length = fileres.headers['content-length']\n",
        "            print(f'Downloading {directory}, {total_length} bytes compressed')\n",
        "            dl = 0\n",
        "            data = fileres.read(CHUNK_SIZE)\n",
        "            while len(data) > 0:\n",
        "                dl += len(data)\n",
        "                tfile.write(data)\n",
        "                done = int(50 * dl / int(total_length))\n",
        "                sys.stdout.write(f\"\\r[{'=' * done}{' ' * (50-done)}] {dl} bytes downloaded\")\n",
        "                sys.stdout.flush()\n",
        "                data = fileres.read(CHUNK_SIZE)\n",
        "            if filename.endswith('.zip'):\n",
        "              with ZipFile(tfile) as zfile:\n",
        "                zfile.extractall(destination_path)\n",
        "            else:\n",
        "              with tarfile.open(tfile.name) as tarfile:\n",
        "                tarfile.extractall(destination_path)\n",
        "            print(f'\\nDownloaded and uncompressed: {directory}')\n",
        "    except HTTPError as e:\n",
        "        print(f'Failed to load (likely expired) {download_url} to path {destination_path}')\n",
        "        continue\n",
        "    except OSError as e:\n",
        "        print(f'Failed to load {download_url} to path {destination_path}')\n",
        "        continue\n",
        "\n",
        "print('Data source import complete.')\n"
      ],
      "metadata": {
        "colab": {
          "base_uri": "https://localhost:8080/"
        },
        "id": "NlDfMpXza4kD",
        "outputId": "ffc684d6-bae2-470f-c998-9b91674c56bf"
      },
      "cell_type": "code",
      "outputs": [
        {
          "output_type": "stream",
          "name": "stdout",
          "text": [
            "Downloading horses-or-humans-dataset, 322366720 bytes compressed\n",
            "[==================================================] 322366720 bytes downloaded\n",
            "Downloaded and uncompressed: horses-or-humans-dataset\n",
            "Data source import complete.\n"
          ]
        }
      ],
      "execution_count": 1
    },
    {
      "cell_type": "code",
      "source": [
        "import warnings\n",
        "\n",
        "warnings.filterwarnings('ignore')\n",
        "train_path = '/kaggle/input/horses-or-humans-dataset/horse-or-human/train'"
      ],
      "metadata": {
        "_uuid": "8f2839f25d086af736a60e9eeb907d3b93b6e0e5",
        "_cell_guid": "b1076dfc-b9ad-4769-8c92-a6c4dae69d19",
        "execution": {
          "iopub.status.busy": "2024-07-07T13:01:42.982053Z",
          "iopub.execute_input": "2024-07-07T13:01:42.982655Z",
          "iopub.status.idle": "2024-07-07T13:01:42.987046Z",
          "shell.execute_reply.started": "2024-07-07T13:01:42.982626Z",
          "shell.execute_reply": "2024-07-07T13:01:42.986096Z"
        },
        "trusted": true,
        "id": "k_9vrTx5a4kG"
      },
      "execution_count": 2,
      "outputs": []
    },
    {
      "cell_type": "code",
      "source": [
        "import tensorflow as tf\n",
        "from tensorflow.keras.preprocessing.image import ImageDataGenerator"
      ],
      "metadata": {
        "execution": {
          "iopub.status.busy": "2024-07-07T13:01:42.991875Z",
          "iopub.execute_input": "2024-07-07T13:01:42.992159Z",
          "iopub.status.idle": "2024-07-07T13:01:42.997892Z",
          "shell.execute_reply.started": "2024-07-07T13:01:42.992135Z",
          "shell.execute_reply": "2024-07-07T13:01:42.99692Z"
        },
        "trusted": true,
        "id": "6Ydwt5iNa4kH"
      },
      "execution_count": 3,
      "outputs": []
    },
    {
      "cell_type": "code",
      "source": [
        "train_datagen = ImageDataGenerator(rescale = 1/255)"
      ],
      "metadata": {
        "execution": {
          "iopub.status.busy": "2024-07-07T13:01:42.999921Z",
          "iopub.execute_input": "2024-07-07T13:01:43.000445Z",
          "iopub.status.idle": "2024-07-07T13:01:43.005683Z",
          "shell.execute_reply.started": "2024-07-07T13:01:43.000414Z",
          "shell.execute_reply": "2024-07-07T13:01:43.004821Z"
        },
        "trusted": true,
        "id": "J2X6-p9Na4kH"
      },
      "execution_count": 4,
      "outputs": []
    },
    {
      "cell_type": "code",
      "source": [
        "train_generator = train_datagen.flow_from_directory(\n",
        "        train_path,\n",
        "        target_size = (300,300),\n",
        "        batch_size = 128,\n",
        "        class_mode = \"binary\")"
      ],
      "metadata": {
        "execution": {
          "iopub.status.busy": "2024-07-07T13:01:43.006797Z",
          "iopub.execute_input": "2024-07-07T13:01:43.007349Z",
          "iopub.status.idle": "2024-07-07T13:01:43.047102Z",
          "shell.execute_reply.started": "2024-07-07T13:01:43.007305Z",
          "shell.execute_reply": "2024-07-07T13:01:43.04638Z"
        },
        "trusted": true,
        "colab": {
          "base_uri": "https://localhost:8080/"
        },
        "id": "0ZjpQJDza4kH",
        "outputId": "71dcda9f-3d48-402e-e597-5c62a5abede0"
      },
      "execution_count": 5,
      "outputs": [
        {
          "output_type": "stream",
          "name": "stdout",
          "text": [
            "Found 1027 images belonging to 2 classes.\n"
          ]
        }
      ]
    },
    {
      "cell_type": "code",
      "source": [
        "import tensorflow as tf\n",
        "from tensorflow.keras import layers\n",
        "\n",
        "cnn_model = tf.keras.models.Sequential([\n",
        "    layers.Input(shape=(300, 300, 3)),\n",
        "    layers.Conv2D(16, 3, activation='relu'),\n",
        "    layers.MaxPooling2D(2, 2),\n",
        "    layers.Conv2D(32, 3, activation='relu'),\n",
        "    layers.MaxPooling2D(2, 2),\n",
        "    layers.Conv2D(64, 3, activation='relu'),\n",
        "    layers.MaxPooling2D(2, 2),\n",
        "    layers.Conv2D(64, 3, activation='relu'),\n",
        "    layers.MaxPooling2D(2, 2),\n",
        "    layers.Conv2D(64, 3, activation='relu'),\n",
        "    layers.MaxPooling2D(2, 2),\n",
        "    layers.Flatten(),\n",
        "    layers.Dense(512, activation='relu'),\n",
        "    layers.Dense(1, activation='sigmoid')\n",
        "])\n"
      ],
      "metadata": {
        "execution": {
          "iopub.status.busy": "2024-07-07T13:01:43.048368Z",
          "iopub.execute_input": "2024-07-07T13:01:43.048794Z",
          "iopub.status.idle": "2024-07-07T13:01:43.116674Z",
          "shell.execute_reply.started": "2024-07-07T13:01:43.048761Z",
          "shell.execute_reply": "2024-07-07T13:01:43.115699Z"
        },
        "trusted": true,
        "id": "4fm5QUTTa4kI"
      },
      "execution_count": 6,
      "outputs": []
    },
    {
      "cell_type": "code",
      "source": [
        "cnn_model.summary()"
      ],
      "metadata": {
        "execution": {
          "iopub.status.busy": "2024-07-07T13:01:43.119077Z",
          "iopub.execute_input": "2024-07-07T13:01:43.119799Z",
          "iopub.status.idle": "2024-07-07T13:01:43.147651Z",
          "shell.execute_reply.started": "2024-07-07T13:01:43.119762Z",
          "shell.execute_reply": "2024-07-07T13:01:43.146739Z"
        },
        "trusted": true,
        "colab": {
          "base_uri": "https://localhost:8080/"
        },
        "id": "qhNb2z08a4kI",
        "outputId": "3fb6dc77-b5df-4e19-f82e-4cb879c96ebe"
      },
      "execution_count": 7,
      "outputs": [
        {
          "output_type": "stream",
          "name": "stdout",
          "text": [
            "Model: \"sequential\"\n",
            "_________________________________________________________________\n",
            " Layer (type)                Output Shape              Param #   \n",
            "=================================================================\n",
            " conv2d (Conv2D)             (None, 298, 298, 16)      448       \n",
            "                                                                 \n",
            " max_pooling2d (MaxPooling2  (None, 149, 149, 16)      0         \n",
            " D)                                                              \n",
            "                                                                 \n",
            " conv2d_1 (Conv2D)           (None, 147, 147, 32)      4640      \n",
            "                                                                 \n",
            " max_pooling2d_1 (MaxPoolin  (None, 73, 73, 32)        0         \n",
            " g2D)                                                            \n",
            "                                                                 \n",
            " conv2d_2 (Conv2D)           (None, 71, 71, 64)        18496     \n",
            "                                                                 \n",
            " max_pooling2d_2 (MaxPoolin  (None, 35, 35, 64)        0         \n",
            " g2D)                                                            \n",
            "                                                                 \n",
            " conv2d_3 (Conv2D)           (None, 33, 33, 64)        36928     \n",
            "                                                                 \n",
            " max_pooling2d_3 (MaxPoolin  (None, 16, 16, 64)        0         \n",
            " g2D)                                                            \n",
            "                                                                 \n",
            " conv2d_4 (Conv2D)           (None, 14, 14, 64)        36928     \n",
            "                                                                 \n",
            " max_pooling2d_4 (MaxPoolin  (None, 7, 7, 64)          0         \n",
            " g2D)                                                            \n",
            "                                                                 \n",
            " flatten (Flatten)           (None, 3136)              0         \n",
            "                                                                 \n",
            " dense (Dense)               (None, 512)               1606144   \n",
            "                                                                 \n",
            " dense_1 (Dense)             (None, 1)                 513       \n",
            "                                                                 \n",
            "=================================================================\n",
            "Total params: 1704097 (6.50 MB)\n",
            "Trainable params: 1704097 (6.50 MB)\n",
            "Non-trainable params: 0 (0.00 Byte)\n",
            "_________________________________________________________________\n"
          ]
        }
      ]
    },
    {
      "cell_type": "code",
      "source": [
        "cnn_model.compile(\n",
        "    loss = \"binary_crossentropy\",\n",
        "    optimizer = tf.keras.optimizers.RMSprop(learning_rate = 0.001),\n",
        "    metrics = [\"accuracy\"])"
      ],
      "metadata": {
        "execution": {
          "iopub.status.busy": "2024-07-07T13:01:43.148964Z",
          "iopub.execute_input": "2024-07-07T13:01:43.149418Z",
          "iopub.status.idle": "2024-07-07T13:01:43.159052Z",
          "shell.execute_reply.started": "2024-07-07T13:01:43.149381Z",
          "shell.execute_reply": "2024-07-07T13:01:43.158026Z"
        },
        "trusted": true,
        "id": "7rnl1FMNa4kJ"
      },
      "execution_count": 8,
      "outputs": []
    },
    {
      "cell_type": "code",
      "source": [
        "history = cnn_model.fit(\n",
        "    train_generator,\n",
        "    epochs = 10)"
      ],
      "metadata": {
        "execution": {
          "iopub.status.busy": "2024-07-07T13:01:43.160225Z",
          "iopub.execute_input": "2024-07-07T13:01:43.160794Z",
          "iopub.status.idle": "2024-07-07T13:03:10.885377Z",
          "shell.execute_reply.started": "2024-07-07T13:01:43.160767Z",
          "shell.execute_reply": "2024-07-07T13:03:10.884598Z"
        },
        "trusted": true,
        "colab": {
          "base_uri": "https://localhost:8080/"
        },
        "id": "8Q4LRs4Ma4kJ",
        "outputId": "cba4e940-1f18-4ae3-fea6-12e6cd0516a7"
      },
      "execution_count": 9,
      "outputs": [
        {
          "output_type": "stream",
          "name": "stdout",
          "text": [
            "Epoch 1/10\n",
            "9/9 [==============================] - 22s 1s/step - loss: 0.7426 - accuracy: 0.5083\n",
            "Epoch 2/10\n",
            "9/9 [==============================] - 9s 925ms/step - loss: 0.6117 - accuracy: 0.7459\n",
            "Epoch 3/10\n",
            "9/9 [==============================] - 9s 1s/step - loss: 0.7184 - accuracy: 0.5414\n",
            "Epoch 4/10\n",
            "9/9 [==============================] - 10s 1s/step - loss: 0.6028 - accuracy: 0.7079\n",
            "Epoch 5/10\n",
            "9/9 [==============================] - 9s 919ms/step - loss: 0.5111 - accuracy: 0.8072\n",
            "Epoch 6/10\n",
            "9/9 [==============================] - 9s 1s/step - loss: 0.2552 - accuracy: 0.8987\n",
            "Epoch 7/10\n",
            "9/9 [==============================] - 9s 912ms/step - loss: 0.1783 - accuracy: 0.9211\n",
            "Epoch 8/10\n",
            "9/9 [==============================] - 7s 805ms/step - loss: 0.2230 - accuracy: 0.9085\n",
            "Epoch 9/10\n",
            "9/9 [==============================] - 8s 981ms/step - loss: 0.1590 - accuracy: 0.9503\n",
            "Epoch 10/10\n",
            "9/9 [==============================] - 8s 907ms/step - loss: 0.1569 - accuracy: 0.9435\n"
          ]
        }
      ]
    },
    {
      "cell_type": "code",
      "source": [
        "val_path = '/kaggle/input/horses-or-humans-dataset/horse-or-human/validation'"
      ],
      "metadata": {
        "execution": {
          "iopub.status.busy": "2024-07-07T13:12:43.58149Z",
          "iopub.execute_input": "2024-07-07T13:12:43.582392Z",
          "iopub.status.idle": "2024-07-07T13:12:43.586487Z",
          "shell.execute_reply.started": "2024-07-07T13:12:43.582351Z",
          "shell.execute_reply": "2024-07-07T13:12:43.585471Z"
        },
        "trusted": true,
        "id": "zv3KV0iNa4kJ"
      },
      "execution_count": 10,
      "outputs": []
    },
    {
      "cell_type": "code",
      "source": [
        "val_datagen = ImageDataGenerator(rescale = 1/255)"
      ],
      "metadata": {
        "execution": {
          "iopub.status.busy": "2024-07-07T13:13:13.112552Z",
          "iopub.execute_input": "2024-07-07T13:13:13.112912Z",
          "iopub.status.idle": "2024-07-07T13:13:13.117531Z",
          "shell.execute_reply.started": "2024-07-07T13:13:13.112884Z",
          "shell.execute_reply": "2024-07-07T13:13:13.116498Z"
        },
        "trusted": true,
        "id": "0fLH83I_a4kK"
      },
      "execution_count": 11,
      "outputs": []
    },
    {
      "cell_type": "code",
      "source": [
        "val_generator = val_datagen.flow_from_directory(\n",
        "        val_path,\n",
        "        target_size = (300,300),\n",
        "        batch_size = 128,\n",
        "        class_mode = \"binary\")"
      ],
      "metadata": {
        "execution": {
          "iopub.status.busy": "2024-07-07T13:13:22.162855Z",
          "iopub.execute_input": "2024-07-07T13:13:22.163662Z",
          "iopub.status.idle": "2024-07-07T13:13:22.22691Z",
          "shell.execute_reply.started": "2024-07-07T13:13:22.163625Z",
          "shell.execute_reply": "2024-07-07T13:13:22.226105Z"
        },
        "trusted": true,
        "colab": {
          "base_uri": "https://localhost:8080/"
        },
        "id": "L5LOTDd1a4kK",
        "outputId": "89a5443d-616d-46de-d92c-01454db14afd"
      },
      "execution_count": 12,
      "outputs": [
        {
          "output_type": "stream",
          "name": "stdout",
          "text": [
            "Found 256 images belonging to 2 classes.\n"
          ]
        }
      ]
    },
    {
      "cell_type": "code",
      "source": [
        "import tensorflow as tf\n",
        "from tensorflow.keras import layers\n",
        "\n",
        "cnn_model = tf.keras.models.Sequential([\n",
        "    layers.Input(shape=(300, 300, 3)),\n",
        "    layers.Conv2D(16, 3, activation='relu'),\n",
        "    layers.MaxPooling2D(2, 2),\n",
        "    layers.Conv2D(32, 3, activation='relu'),\n",
        "    layers.MaxPooling2D(2, 2),\n",
        "    layers.Conv2D(64, 3, activation='relu'),\n",
        "    layers.MaxPooling2D(2, 2),\n",
        "    layers.Conv2D(64, 3, activation='relu'),\n",
        "    layers.MaxPooling2D(2, 2),\n",
        "    layers.Conv2D(64, 3, activation='relu'),\n",
        "    layers.MaxPooling2D(2, 2),\n",
        "    layers.Flatten(),\n",
        "    layers.Dense(512, activation='relu'),\n",
        "    layers.Dense(1, activation='sigmoid')\n",
        "])"
      ],
      "metadata": {
        "execution": {
          "iopub.status.busy": "2024-07-07T13:14:24.13195Z",
          "iopub.execute_input": "2024-07-07T13:14:24.132327Z",
          "iopub.status.idle": "2024-07-07T13:14:24.198514Z",
          "shell.execute_reply.started": "2024-07-07T13:14:24.132293Z",
          "shell.execute_reply": "2024-07-07T13:14:24.197708Z"
        },
        "trusted": true,
        "id": "0M8Hr8m0a4kK"
      },
      "execution_count": 13,
      "outputs": []
    },
    {
      "cell_type": "code",
      "source": [
        "cnn_model.compile(\n",
        "    loss = \"binary_crossentropy\",\n",
        "    optimizer = tf.keras.optimizers.RMSprop(learning_rate = 0.001),\n",
        "    metrics = [\"accuracy\"])"
      ],
      "metadata": {
        "execution": {
          "iopub.status.busy": "2024-07-07T13:14:25.162095Z",
          "iopub.execute_input": "2024-07-07T13:14:25.162487Z",
          "iopub.status.idle": "2024-07-07T13:14:25.171586Z",
          "shell.execute_reply.started": "2024-07-07T13:14:25.162458Z",
          "shell.execute_reply": "2024-07-07T13:14:25.170629Z"
        },
        "trusted": true,
        "id": "eXRIRPxZa4kK"
      },
      "execution_count": 14,
      "outputs": []
    },
    {
      "cell_type": "code",
      "source": [
        "history = cnn_model.fit(\n",
        "    train_generator,\n",
        "    epochs = 10,\n",
        "    validation_data = val_generator)"
      ],
      "metadata": {
        "execution": {
          "iopub.status.busy": "2024-07-07T13:14:29.922162Z",
          "iopub.execute_input": "2024-07-07T13:14:29.922651Z",
          "iopub.status.idle": "2024-07-07T13:16:13.351998Z",
          "shell.execute_reply.started": "2024-07-07T13:14:29.922623Z",
          "shell.execute_reply": "2024-07-07T13:16:13.351226Z"
        },
        "trusted": true,
        "colab": {
          "base_uri": "https://localhost:8080/"
        },
        "id": "bl3bVC4Fa4kL",
        "outputId": "e93998b2-4fdd-4dc2-c832-2a0bd1a5e59e"
      },
      "execution_count": 15,
      "outputs": [
        {
          "output_type": "stream",
          "name": "stdout",
          "text": [
            "Epoch 1/10\n",
            "9/9 [==============================] - 11s 1s/step - loss: 0.9267 - accuracy: 0.4985 - val_loss: 0.6914 - val_accuracy: 0.5000\n",
            "Epoch 2/10\n",
            "9/9 [==============================] - 9s 1s/step - loss: 0.6629 - accuracy: 0.6748 - val_loss: 1.5784 - val_accuracy: 0.5000\n",
            "Epoch 3/10\n",
            "9/9 [==============================] - 9s 1s/step - loss: 0.6439 - accuracy: 0.6456 - val_loss: 0.5027 - val_accuracy: 0.8086\n",
            "Epoch 4/10\n",
            "9/9 [==============================] - 9s 1s/step - loss: 0.6646 - accuracy: 0.7702 - val_loss: 1.5845 - val_accuracy: 0.5195\n",
            "Epoch 5/10\n",
            "9/9 [==============================] - 9s 953ms/step - loss: 0.3478 - accuracy: 0.8608 - val_loss: 0.9664 - val_accuracy: 0.7969\n",
            "Epoch 6/10\n",
            "9/9 [==============================] - 9s 1s/step - loss: 0.4366 - accuracy: 0.8403 - val_loss: 1.3815 - val_accuracy: 0.7109\n",
            "Epoch 7/10\n",
            "9/9 [==============================] - 9s 1s/step - loss: 0.1969 - accuracy: 0.9299 - val_loss: 0.4205 - val_accuracy: 0.8867\n",
            "Epoch 8/10\n",
            "9/9 [==============================] - 11s 1s/step - loss: 0.0941 - accuracy: 0.9669 - val_loss: 1.4525 - val_accuracy: 0.8398\n",
            "Epoch 9/10\n",
            "9/9 [==============================] - 10s 1s/step - loss: 0.6168 - accuracy: 0.8617 - val_loss: 1.1519 - val_accuracy: 0.8086\n",
            "Epoch 10/10\n",
            "9/9 [==============================] - 9s 965ms/step - loss: 0.1060 - accuracy: 0.9640 - val_loss: 1.2461 - val_accuracy: 0.8711\n"
          ]
        }
      ]
    },
    {
      "cell_type": "markdown",
      "source": [
        "# İmage augmentation ile modelin ezberlemesinin önüne geçmemiz lazım."
      ],
      "metadata": {
        "id": "UPrbqqLva4kL"
      }
    },
    {
      "cell_type": "code",
      "source": [
        "rain_datagen = ImageDataGenerator(\n",
        "      rescale=1./255,\n",
        "      rotation_range=40,\n",
        "      width_shift_range=0.2,\n",
        "      height_shift_range=0.2,\n",
        "      shear_range=0.2,\n",
        "      zoom_range=0.2,\n",
        "      horizontal_flip=True,\n",
        "      fill_mode='nearest')"
      ],
      "metadata": {
        "execution": {
          "iopub.status.busy": "2024-07-07T13:26:40.272494Z",
          "iopub.execute_input": "2024-07-07T13:26:40.273225Z",
          "iopub.status.idle": "2024-07-07T13:26:40.278598Z",
          "shell.execute_reply.started": "2024-07-07T13:26:40.273194Z",
          "shell.execute_reply": "2024-07-07T13:26:40.277489Z"
        },
        "trusted": true,
        "id": "N7N4yTFja4kN"
      },
      "execution_count": 32,
      "outputs": []
    },
    {
      "cell_type": "code",
      "source": [
        "cnn_model = tf.keras.models.Sequential([\n",
        "    layers.Input(shape=(300, 300, 3)),\n",
        "    layers.Conv2D(16, 3, activation='relu'),\n",
        "    layers.MaxPooling2D(2, 2),\n",
        "    layers.Conv2D(32, 3, activation='relu'),\n",
        "    layers.MaxPooling2D(2, 2),\n",
        "    layers.Conv2D(64, 3, activation='relu'),\n",
        "    layers.MaxPooling2D(2, 2),\n",
        "    layers.Conv2D(64, 3, activation='relu'),\n",
        "    layers.MaxPooling2D(2, 2),\n",
        "    layers.Conv2D(64, 3, activation='relu'),\n",
        "    layers.MaxPooling2D(2, 2),\n",
        "    layers.Flatten(),\n",
        "    layers.Dense(512, activation='relu'),\n",
        "    layers.Dense(1, activation='sigmoid')\n",
        "])"
      ],
      "metadata": {
        "execution": {
          "iopub.status.busy": "2024-07-07T13:26:44.973934Z",
          "iopub.execute_input": "2024-07-07T13:26:44.974311Z",
          "iopub.status.idle": "2024-07-07T13:26:45.042627Z",
          "shell.execute_reply.started": "2024-07-07T13:26:44.974275Z",
          "shell.execute_reply": "2024-07-07T13:26:45.04165Z"
        },
        "trusted": true,
        "id": "Q5HYtoOKa4kN"
      },
      "execution_count": 33,
      "outputs": []
    },
    {
      "cell_type": "code",
      "source": [
        "cnn_model.compile(\n",
        "    loss = \"binary_crossentropy\",\n",
        "    optimizer = tf.keras.optimizers.RMSprop(learning_rate = 0.001),\n",
        "    metrics = [\"accuracy\"])"
      ],
      "metadata": {
        "execution": {
          "iopub.status.busy": "2024-07-07T13:26:47.631716Z",
          "iopub.execute_input": "2024-07-07T13:26:47.632592Z",
          "iopub.status.idle": "2024-07-07T13:26:47.641873Z",
          "shell.execute_reply.started": "2024-07-07T13:26:47.632558Z",
          "shell.execute_reply": "2024-07-07T13:26:47.641053Z"
        },
        "trusted": true,
        "id": "AAkEAzBOa4kN"
      },
      "execution_count": 34,
      "outputs": []
    },
    {
      "cell_type": "code",
      "source": [
        "train_generator = train_datagen.flow_from_directory(\n",
        "        train_path,\n",
        "        target_size = (300,300),\n",
        "        batch_size = 128,\n",
        "        class_mode = \"binary\")"
      ],
      "metadata": {
        "execution": {
          "iopub.status.busy": "2024-07-07T13:26:48.091873Z",
          "iopub.execute_input": "2024-07-07T13:26:48.092827Z",
          "iopub.status.idle": "2024-07-07T13:26:48.132927Z",
          "shell.execute_reply.started": "2024-07-07T13:26:48.092788Z",
          "shell.execute_reply": "2024-07-07T13:26:48.132165Z"
        },
        "trusted": true,
        "colab": {
          "base_uri": "https://localhost:8080/"
        },
        "id": "clC5P9XXa4kO",
        "outputId": "f1d5b4c5-c885-4efb-c5c2-80892fa4428e"
      },
      "execution_count": 35,
      "outputs": [
        {
          "output_type": "stream",
          "name": "stdout",
          "text": [
            "Found 1027 images belonging to 2 classes.\n"
          ]
        }
      ]
    },
    {
      "cell_type": "code",
      "source": [
        "history = cnn_model.fit(\n",
        "    train_generator,\n",
        "    epochs = 10,\n",
        "    validation_data = val_generator)"
      ],
      "metadata": {
        "execution": {
          "iopub.status.busy": "2024-07-07T13:26:49.981959Z",
          "iopub.execute_input": "2024-07-07T13:26:49.982542Z",
          "iopub.status.idle": "2024-07-07T13:31:33.996681Z",
          "shell.execute_reply.started": "2024-07-07T13:26:49.982511Z",
          "shell.execute_reply": "2024-07-07T13:31:33.995716Z"
        },
        "trusted": true,
        "colab": {
          "base_uri": "https://localhost:8080/"
        },
        "id": "h72gtPYja4kO",
        "outputId": "9bae45ac-abb3-442e-ec1a-91c9b147f57b"
      },
      "execution_count": 20,
      "outputs": [
        {
          "output_type": "stream",
          "name": "stdout",
          "text": [
            "Epoch 1/10\n",
            "9/9 [==============================] - 11s 1s/step - loss: 0.7008 - accuracy: 0.6232 - val_loss: 1.1100 - val_accuracy: 0.5000\n",
            "Epoch 2/10\n",
            "9/9 [==============================] - 9s 1s/step - loss: 0.7946 - accuracy: 0.6271 - val_loss: 0.6423 - val_accuracy: 0.8281\n",
            "Epoch 3/10\n",
            "9/9 [==============================] - 9s 1s/step - loss: 0.6592 - accuracy: 0.7361 - val_loss: 0.6904 - val_accuracy: 0.5156\n",
            "Epoch 4/10\n",
            "9/9 [==============================] - 9s 944ms/step - loss: 0.5055 - accuracy: 0.7283 - val_loss: 0.2601 - val_accuracy: 0.8906\n",
            "Epoch 5/10\n",
            "9/9 [==============================] - 10s 1s/step - loss: 0.5227 - accuracy: 0.7955 - val_loss: 0.4122 - val_accuracy: 0.8828\n",
            "Epoch 6/10\n",
            "9/9 [==============================] - 9s 1s/step - loss: 0.2848 - accuracy: 0.8793 - val_loss: 0.5250 - val_accuracy: 0.8828\n",
            "Epoch 7/10\n",
            "9/9 [==============================] - 10s 1s/step - loss: 0.1899 - accuracy: 0.9143 - val_loss: 1.4087 - val_accuracy: 0.7656\n",
            "Epoch 8/10\n",
            "9/9 [==============================] - 9s 954ms/step - loss: 0.5114 - accuracy: 0.8354 - val_loss: 0.5365 - val_accuracy: 0.8320\n",
            "Epoch 9/10\n",
            "9/9 [==============================] - 10s 1s/step - loss: 0.1859 - accuracy: 0.9309 - val_loss: 2.0414 - val_accuracy: 0.7383\n",
            "Epoch 10/10\n",
            "9/9 [==============================] - 9s 1s/step - loss: 0.0810 - accuracy: 0.9679 - val_loss: 1.1860 - val_accuracy: 0.8438\n"
          ]
        }
      ]
    },
    {
      "cell_type": "markdown",
      "source": [
        "# Model Tahmini"
      ],
      "metadata": {
        "id": "0eaJzKyOa4kO"
      }
    },
    {
      "cell_type": "code",
      "source": [
        "path = \"/kaggle/input/horses-or-humans-dataset/horse-or-human/validation/humans/valhuman02-03.png\""
      ],
      "metadata": {
        "execution": {
          "iopub.status.busy": "2024-07-07T13:33:26.981949Z",
          "iopub.execute_input": "2024-07-07T13:33:26.982314Z",
          "iopub.status.idle": "2024-07-07T13:33:26.986546Z",
          "shell.execute_reply.started": "2024-07-07T13:33:26.982285Z",
          "shell.execute_reply": "2024-07-07T13:33:26.985468Z"
        },
        "trusted": true,
        "id": "8e7zGp7Na4kO"
      },
      "execution_count": 21,
      "outputs": []
    },
    {
      "cell_type": "code",
      "source": [
        "from tensorflow.keras.preprocessing import image\n",
        "img = image.load_img(path, target_size=(300,300))\n",
        "img"
      ],
      "metadata": {
        "execution": {
          "iopub.status.busy": "2024-07-07T13:34:25.301726Z",
          "iopub.execute_input": "2024-07-07T13:34:25.302085Z",
          "iopub.status.idle": "2024-07-07T13:34:25.32707Z",
          "shell.execute_reply.started": "2024-07-07T13:34:25.302058Z",
          "shell.execute_reply": "2024-07-07T13:34:25.326173Z"
        },
        "trusted": true,
        "colab": {
          "base_uri": "https://localhost:8080/",
          "height": 317
        },
        "id": "_ChBltlsa4kO",
        "outputId": "888419e1-31b6-405f-e9d1-6cd0277f2e00"
      },
      "execution_count": 22,
      "outputs": [
        {
          "output_type": "execute_result",
          "data": {
            "text/plain": [
              "<PIL.Image.Image image mode=RGB size=300x300>"
            ],
            "image/png": "[encoded data removed]"
          },
          "metadata": {},
          "execution_count": 22
        }
      ]
    },
    {
      "cell_type": "markdown",
      "source": [
        "### Resmi array'e çevirelim"
      ],
      "metadata": {
        "id": "zDd2YyrIa4kO"
      }
    },
    {
      "cell_type": "code",
      "source": [
        "x = image.img_to_array(img)\n",
        "x.shape"
      ],
      "metadata": {
        "execution": {
          "iopub.status.busy": "2024-07-07T13:35:18.867245Z",
          "iopub.execute_input": "2024-07-07T13:35:18.86766Z",
          "iopub.status.idle": "2024-07-07T13:35:18.874352Z",
          "shell.execute_reply.started": "2024-07-07T13:35:18.867626Z",
          "shell.execute_reply": "2024-07-07T13:35:18.873446Z"
        },
        "trusted": true,
        "colab": {
          "base_uri": "https://localhost:8080/"
        },
        "id": "339WwN4sa4kP",
        "outputId": "4d9820ce-b18c-4e91-910d-4585848de15f"
      },
      "execution_count": 23,
      "outputs": [
        {
          "output_type": "execute_result",
          "data": {
            "text/plain": [
              "(300, 300, 3)"
            ]
          },
          "metadata": {},
          "execution_count": 23
        }
      ]
    },
    {
      "cell_type": "code",
      "source": [
        "import numpy as np\n",
        "x = np.expand_dims(x, axis = 0)\n",
        "x.shape"
      ],
      "metadata": {
        "execution": {
          "iopub.status.busy": "2024-07-07T13:36:07.431987Z",
          "iopub.execute_input": "2024-07-07T13:36:07.432399Z",
          "iopub.status.idle": "2024-07-07T13:36:07.438825Z",
          "shell.execute_reply.started": "2024-07-07T13:36:07.432369Z",
          "shell.execute_reply": "2024-07-07T13:36:07.437808Z"
        },
        "trusted": true,
        "colab": {
          "base_uri": "https://localhost:8080/"
        },
        "id": "ig2PPJPoa4kP",
        "outputId": "c1347b76-f049-4b24-ce2e-5393e4467cd4"
      },
      "execution_count": 24,
      "outputs": [
        {
          "output_type": "execute_result",
          "data": {
            "text/plain": [
              "(1, 300, 300, 3)"
            ]
          },
          "metadata": {},
          "execution_count": 24
        }
      ]
    },
    {
      "cell_type": "code",
      "source": [
        "classes = cnn_model.predict(x)"
      ],
      "metadata": {
        "execution": {
          "iopub.status.busy": "2024-07-07T13:36:37.902292Z",
          "iopub.execute_input": "2024-07-07T13:36:37.902784Z",
          "iopub.status.idle": "2024-07-07T13:36:38.780347Z",
          "shell.execute_reply.started": "2024-07-07T13:36:37.902745Z",
          "shell.execute_reply": "2024-07-07T13:36:38.779571Z"
        },
        "trusted": true,
        "colab": {
          "base_uri": "https://localhost:8080/"
        },
        "id": "96gy18TEa4kP",
        "outputId": "f1d33347-1c3b-4858-be54-fb7b9b9fe6aa"
      },
      "execution_count": 25,
      "outputs": [
        {
          "output_type": "stream",
          "name": "stdout",
          "text": [
            "1/1 [==============================] - 1s 553ms/step\n"
          ]
        }
      ]
    },
    {
      "cell_type": "code",
      "source": [
        "if classes[0]>0.5:\n",
        "    print(\"Görsel insan\")\n",
        "else:\n",
        "    print(\"Görsel at\")"
      ],
      "metadata": {
        "execution": {
          "iopub.status.busy": "2024-07-07T13:37:50.729478Z",
          "iopub.execute_input": "2024-07-07T13:37:50.72983Z",
          "iopub.status.idle": "2024-07-07T13:37:50.735052Z",
          "shell.execute_reply.started": "2024-07-07T13:37:50.729806Z",
          "shell.execute_reply": "2024-07-07T13:37:50.73408Z"
        },
        "trusted": true,
        "colab": {
          "base_uri": "https://localhost:8080/"
        },
        "id": "3a1fjuSDa4kP",
        "outputId": "12fdf37a-9207-46bc-a04e-f9a0077817a7"
      },
      "execution_count": 26,
      "outputs": [
        {
          "output_type": "stream",
          "name": "stdout",
          "text": [
            "Görsel insan\n"
          ]
        }
      ]
    },
    {
      "cell_type": "code",
      "source": [
        "import numpy as np\n",
        "from tensorflow.keras.preprocessing import image\n",
        "import matplotlib.pyplot as plt\n",
        "\n",
        "img_path = path\n",
        "\n",
        "\n",
        "img = image.load_img(img_path, target_size=(300, 300))\n",
        "img_tensor = image.img_to_array(img)\n",
        "img_tensor = np.expand_dims(img_tensor, axis=0)\n",
        "img_tensor /= 255.0\n",
        "\n",
        "plt.imshow(img_tensor[0])\n",
        "plt.axis('off')\n",
        "plt.show()\n",
        "\n",
        "\n",
        "prediction = cnn_model.predict(img_tensor)\n",
        "\n",
        "predicted_class = class_names[int(prediction[0] > 0.5)]\n",
        "print(f\"Bu bir {predicted_class}.\")"
      ],
      "metadata": {
        "colab": {
          "base_uri": "https://localhost:8080/",
          "height": 441
        },
        "id": "M9vmQXXsJe99",
        "outputId": "a6c70b4c-b218-4b1f-ccdb-0e7477df2eec"
      },
      "execution_count": 54,
      "outputs": [
        {
          "output_type": "display_data",
          "data": {
            "text/plain": [
              "<Figure size 640x480 with 1 Axes>"
            ],
            "image/png": "[encoded data removed]"
          },
          "metadata": {}
        },
        {
          "output_type": "stream",
          "name": "stdout",
          "text": [
            "1/1 [==============================] - 0s 19ms/step\n",
            "Bu bir İnsan.\n"
          ]
        }
      ]
    },
    {
      "cell_type": "code",
      "source": [],
      "metadata": {
        "id": "ARtQvx4bKAhJ"
      },
      "execution_count": null,
      "outputs": []
    }
  ]
}